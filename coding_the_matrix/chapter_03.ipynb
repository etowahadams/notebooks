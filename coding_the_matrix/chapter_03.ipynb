{
 "cells": [
  {
   "attachments": {},
   "cell_type": "markdown",
   "metadata": {},
   "source": [
    "# Chapter 3: Vector Spaces\n",
    "\n",
    "A vector space $V$ over a field $\\mathbb F$ contains the zero vector has closure over vector scalar-vector multiplication and vector addition. There are two common representations of vector spaces: spans and homogenous linear systems. \n",
    "\n",
    "[This](https://math.stackexchange.com/questions/969720/what-is-the-main-difference-between-a-vector-space-and-a-field) is a stackexchange on the difference between a field and a vector space. "
   ]
  },
  {
   "attachments": {},
   "cell_type": "markdown",
   "metadata": {},
   "source": [
    "### 3.7 Review questions\n",
    "- What is a linear combination?\n",
    "\n",
    "Let there be a set of vectors $\\{v_1, \\ldots, v_n\\}$.  linear combination of these vectors is a sum \n",
    "$$\\alpha_1 v_1 + \\ldots + \\alpha_n v_n$$\n",
    "where $\\alpha_1, \\ldots , \\alpha_n$ are scalars. Recall that scalars are field elements. \n",
    "\n",
    "- What are coefficients? \n",
    "\n",
    "In the context of a linear combination, coefficients are the scalar elements that the vectors get multiplied by. \n",
    "\n",
    "- What is the span of vectors?\n",
    "\n",
    "A span is all the possible linear combination of a set of vectors. \n",
    "\n",
    "- What are standard generators?\n",
    "\n",
    "Standard generators are a set of vectors which the span of is equivalent to a given set. For example, a generator for $\\R^3$ could be the set of vectors $\\{[1, 0, 0], [0, 1, 0], [0, 0, 1]\\}$\n",
    "\n",
    "- What are examples of flats?\n",
    "\n",
    "An examples of a flat include line in through the origin $\\R^2$, or the solution to any homogenous linear system. \n",
    "\n",
    "- What is a homogeneous linear equation?\n",
    "\n",
    "It is an equation with the form $\\alpha x + \\beta = 0$\n",
    "\n",
    "- What is a homogeneous linear system?\n",
    "\n",
    "Is is a set of homogenous linear equations with a solution or solutions which satisfies all of equations. \n",
    "\n",
    "- What are the two kinds of representations of flats containing the origin?\n",
    "\n",
    "1. A span of vectors \n",
    "2. Solution to a homogeneous system of equations\n",
    "\n",
    "- What is a vector space?\n",
    "\n",
    "A vector space $\\mathbb V$ is a set of vectors which satisfies the following properties:\n",
    "1. Contains the zero vector \n",
    "2. Closed under scalar-multiplication\n",
    "3. Closed under vector addition\n",
    "\n",
    "- What is a subspace? \n",
    "\n",
    "If V and W are vector spaces, and V is a subset of W, then V is called a subspace of W. \n",
    "\n",
    "- What is a affine combination? \n",
    "\n",
    "An affine combination is a linear combination where the coefficients add up to 1. \n",
    "\n",
    "- What is the affine hull of vectors? \n",
    "\n",
    "An affine hull is the set of all affine combinations of a collection of vectors. \n",
    "\n",
    "- What is an affine space? \n",
    "\n",
    "An affine space is a vector space that is translated. For example $A$ is an affine space if there is a vector space $V$ and a vector $a$ where $A = \\{a + v : v \\in V\\}$\n",
    "\n",
    "- What are the two kinds of representations of flats not containing the origin?\n",
    "\n",
    "A flat not containing the origin can be represented as translation of a vector space V, or as the affine hull of some vectors. \n",
    "\n",
    "-  Is the solution set of a linear system always an affine space?\n",
    "\n",
    "Yes, the linear system has at least one solution $u_1$ then the solution set is $\\{ u_1 + v : v \\in V\\}. "
   ]
  },
  {
   "attachments": {},
   "cell_type": "markdown",
   "metadata": {},
   "source": [
    "## 3.8 Problems "
   ]
  },
  {
   "cell_type": "code",
   "execution_count": 14,
   "metadata": {},
   "outputs": [
    {
     "data": {
      "text/plain": [
       "[[6, 7, 0]]"
      ]
     },
     "execution_count": 14,
     "metadata": {},
     "output_type": "execute_result"
    }
   ],
   "source": [
    "# Problem 3.8.1.1\n",
    "input_1 = [[1, 2, 3], [3, 4, 5], [6, 7, 0], [5, 6, 3]]\n",
    "\n",
    "def vec_select(veclist: list, k: int) -> list:\n",
    "  return [v for v in veclist if v[k] == 0]\n",
    "\n",
    "vec_select(input_1, 2)"
   ]
  },
  {
   "cell_type": "code",
   "execution_count": 13,
   "metadata": {},
   "outputs": [
    {
     "data": {
      "text/plain": [
       "[15, 19, 11]"
      ]
     },
     "execution_count": 13,
     "metadata": {},
     "output_type": "execute_result"
    }
   ],
   "source": [
    "# Problem 3.8.1.2\n",
    "domain = {0, 1, 2}\n",
    "input_1 = [[1, 2, 3], [3, 4, 5], [6, 7, 0], [5, 6, 3]]\n",
    "\n",
    "from functools import reduce\n",
    "\n",
    "def vec_sum(veclist: list, D: set) -> list:\n",
    "    return reduce(lambda x, y: [x[i] + y[i] for i in range(len(D))], veclist)\n",
    "\n",
    "vec_sum(input_1, domain)"
   ]
  },
  {
   "cell_type": "code",
   "execution_count": 17,
   "metadata": {},
   "outputs": [
    {
     "data": {
      "text/plain": [
       "[12, 14, 0]"
      ]
     },
     "execution_count": 17,
     "metadata": {},
     "output_type": "execute_result"
    }
   ],
   "source": [
    "# Problem 3.8.1.3\n",
    "domain = {0, 1, 2}\n",
    "input_1 = [[1, 2, 3], [3, 4, 5], [6, 7, 0], [5, 6, 3], [6, 7, 0]]\n",
    "\n",
    "def vec_select_sum(veclist: list, D: set, k:int) -> list:\n",
    "  return vec_sum(vec_select(veclist, k), D)\n",
    "\n",
    "vec_select_sum(input_1, domain, 2)"
   ]
  }
 ],
 "metadata": {
  "kernelspec": {
   "display_name": "Python 3",
   "language": "python",
   "name": "python3"
  },
  "language_info": {
   "codemirror_mode": {
    "name": "ipython",
    "version": 3
   },
   "file_extension": ".py",
   "mimetype": "text/x-python",
   "name": "python",
   "nbconvert_exporter": "python",
   "pygments_lexer": "ipython3",
   "version": "3.8.1"
  },
  "orig_nbformat": 4,
  "vscode": {
   "interpreter": {
    "hash": "6fafa905ccd60f0042b301ebb0b975d5740899e0a5589424ab558a12ce0771cf"
   }
  }
 },
 "nbformat": 4,
 "nbformat_minor": 2
}
