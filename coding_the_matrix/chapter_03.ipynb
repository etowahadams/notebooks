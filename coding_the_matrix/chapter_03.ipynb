{
 "cells": [
  {
   "attachments": {},
   "cell_type": "markdown",
   "metadata": {},
   "source": [
    "# Chapter 3: Vector Spaces\n",
    "\n",
    "A vector space $V$ over a field $\\mathbb F$ contains the zero vector has closure over vector scalar-vector multiplication and vector addition. There are two common representations of vector spaces: spans and homogenous linear systems. \n",
    "\n",
    "[This](https://math.stackexchange.com/questions/969720/what-is-the-main-difference-between-a-vector-space-and-a-field) is a stackexchange on the difference between a field and a vector space. "
   ]
  },
  {
   "attachments": {},
   "cell_type": "markdown",
   "metadata": {},
   "source": [
    "### 3.7 Review questions\n",
    "- What is a linear combination?\n",
    "\n",
    "Let there be a set of vectors $\\{v_1, \\ldots, v_n\\}$.  linear combination of these vectors is a sum \n",
    "$$\\alpha_1 v_1 + \\ldots + \\alpha_n v_n$$\n",
    "where $\\alpha_1, \\ldots , \\alpha_n$ are scalars. Recall that scalars are field elements. \n",
    "\n",
    "- What are coefficients? \n",
    "\n",
    "In the context of a linear combination, coefficients are the scalar elements that the vectors get multiplied by. \n",
    "\n",
    "- What is the span of vectors?\n",
    "\n",
    "A span is all the possible linear combination of a set of vectors. \n",
    "\n",
    "- What are standard generators?\n",
    "\n",
    "Standard generators are a set of vectors which the span of is equivalent to a given set. For example, a generator for $\\R^3$ could be the set of vectors $\\{[1, 0, 0], [0, 1, 0], [0, 0, 1]\\}$\n",
    "\n",
    "- What are examples of flats?\n",
    "\n",
    "An examples of a flat include line in through the origin $\\R^2$, or the solution to any homogenous linear system. \n",
    "\n",
    "- What is a homogeneous linear equation?\n",
    "\n",
    "It is an equation with the form $\\alpha x + \\beta = 0$\n",
    "\n",
    "- What is a homogeneous linear system?\n",
    "\n",
    "Is is a set of homogenous linear equations with a solution or solutions which satisfies all of equations. \n",
    "\n",
    "- What are the two kinds of representations of flats containing the origin?\n",
    "\n",
    "1. A span of vectors \n",
    "2. Solution to a homogeneous system of equations\n",
    "\n",
    "- What is a vector space?\n",
    "\n",
    "A vector space $\\mathbb V$ is a set of vectors which satisfies the following properties:\n",
    "1. Contains the zero vector \n",
    "2. Closed under scalar-multiplication\n",
    "3. Closed under vector addition\n",
    "\n",
    "- What is a subspace? \n",
    "\n",
    "If V and W are vector spaces, and V is a subset of W, then V is called a subspace of W. \n",
    "\n",
    "- What is a affine combination? \n",
    "\n",
    "An affine combination is a linear combination where the coefficients add up to 1. \n",
    "\n",
    "- What is the affine hull of vectors? \n",
    "\n",
    "An affine hull is the set of all affine combinations of a collection of vectors. \n",
    "\n",
    "- What is an affine space? \n",
    "\n",
    "An affine space is a vector space that is translated. For example $A$ is an affine space if there is a vector space $V$ and a vector $a$ where $A = \\{a + v : v \\in V\\}$\n",
    "\n",
    "- What are the two kinds of representations of flats not containing the origin?\n",
    "\n",
    "A flat not containing the origin can be represented as translation of a vector space V, or as the affine hull of some vectors. \n",
    "\n",
    "-  Is the solution set of a linear system always an affine space?\n",
    "\n",
    "Yes, the linear system has at least one solution $u_1$ then the solution set is $\\{ u_1 + v : v \\in V\\}. "
   ]
  },
  {
   "attachments": {},
   "cell_type": "markdown",
   "metadata": {},
   "source": [
    "## 3.8 Problems "
   ]
  },
  {
   "cell_type": "code",
   "execution_count": 14,
   "metadata": {},
   "outputs": [
    {
     "data": {
      "text/plain": [
       "[[6, 7, 0]]"
      ]
     },
     "execution_count": 14,
     "metadata": {},
     "output_type": "execute_result"
    }
   ],
   "source": [
    "# Problem 3.8.1.1\n",
    "input_1 = [[1, 2, 3], [3, 4, 5], [6, 7, 0], [5, 6, 3]]\n",
    "\n",
    "def vec_select(veclist: list, k: int) -> list:\n",
    "  return [v for v in veclist if v[k] == 0]\n",
    "\n",
    "vec_select(input_1, 2)"
   ]
  },
  {
   "cell_type": "code",
   "execution_count": 13,
   "metadata": {},
   "outputs": [
    {
     "data": {
      "text/plain": [
       "[15, 19, 11]"
      ]
     },
     "execution_count": 13,
     "metadata": {},
     "output_type": "execute_result"
    }
   ],
   "source": [
    "# Problem 3.8.1.2\n",
    "domain = {0, 1, 2}\n",
    "input_1 = [[1, 2, 3], [3, 4, 5], [6, 7, 0], [5, 6, 3]]\n",
    "\n",
    "from functools import reduce\n",
    "\n",
    "def vec_sum(veclist: list, D: set) -> list:\n",
    "    return reduce(lambda x, y: [x[i] + y[i] for i in range(len(D))], veclist)\n",
    "\n",
    "vec_sum(input_1, domain)"
   ]
  },
  {
   "cell_type": "code",
   "execution_count": 17,
   "metadata": {},
   "outputs": [
    {
     "data": {
      "text/plain": [
       "[12, 14, 0]"
      ]
     },
     "execution_count": 17,
     "metadata": {},
     "output_type": "execute_result"
    }
   ],
   "source": [
    "# Problem 3.8.1.3\n",
    "domain = {0, 1, 2}\n",
    "input_1 = [[1, 2, 3], [3, 4, 5], [6, 7, 0], [5, 6, 3], [6, 7, 0]]\n",
    "\n",
    "def vec_select_sum(veclist: list, D: set, k:int) -> list:\n",
    "  return vec_sum(vec_select(veclist, k), D)\n",
    "\n",
    "vec_select_sum(input_1, domain, 2)"
   ]
  },
  {
   "attachments": {},
   "cell_type": "markdown",
   "metadata": {},
   "source": [
    "3.8.4\n",
    "\n",
    "Problem: Let $a, b$ be real numbers, COnsider the equation $z=ax+by$. Prove that there are two 3-vectors $v_1, v_2$ such that the set of points $[x, y, z]$ satisfying the equation is exactly the set of linear combinations of $v_1$ and $v_2$. \n",
    "\n",
    "We want to find $v_1$ and $v_2$ where any linear combination of them is a solution to the equation. \n",
    "\n",
    "Observation: both $v_1$ and $v_2$ themselves need to be solutions to the equation because their coeffeicnts could be zero (assuming the scalars are in $\\R$)\n",
    "\n",
    "First we find two solutions to the system. \n",
    "1. $[0, 1, b]$\n",
    "2. $[1, 0, a]$\n",
    "\n",
    "Now let's see what a linear combination of the the two vectors would be.  \n",
    "\n",
    "$\\alpha [0, 1, b] + \\beta [1, 0, a] = [\\beta, \\alpha,  b\\alpha +  a\\beta]$\n",
    "\n",
    "We now need to show that $[\\beta, \\alpha,  b\\alpha +  a\\beta]$ is a solution to the equation. \n",
    "\n",
    "We know what $ax+by=z$. If we plug in $\\beta$ and $\\alpha$ for $x$ and $y$, when we should get $ b\\alpha + a \\beta$. \n",
    "\n",
    "Indeed, this is what we get. \n",
    "$a\\beta + b\\alpha = b\\alpha + a\\beta $"
   ]
  },
  {
   "attachments": {},
   "cell_type": "markdown",
   "metadata": {},
   "source": [
    "3.8.5\n",
    "\n",
    "Problem: Let $a, b, c$ be real numbers. Consider the equation $z = ax + by + c$. Prove that there are three 3-vectors $v_0, v_1,v_2$ such that the set of points $[x, y, z]$ satisfying the equation is exactly the following:\n",
    "\n",
    "$$\\{ v_0 + \\alpha _1 v_2 + \\alpha _2 v_2 : \\alpha_1, \\alpha_2 \\in \\R\\}$$\n",
    "\n",
    "Observation 1: $v_0$ must be a valid solution to the equation. If we set $\\alpha_1$ and $\\alpha_2$ to zero then $v_0$ itself must be a solution. \n",
    "\n",
    "$a0 + b0 + c = c$, so one solution is $[0, 0, c]$. \n",
    "\n",
    "Observation 2: $v_1$ and $v_2$ must be parallel to the solution plane. Let $v$ be a solution, so $v-v_0 = \\alpha _1 v_2 + \\alpha _2 v_2$. Then $\\alpha _1 v_2$ and $\\alpha _2 v_2$ must be parallel to the solution plane because as $\\alpha_1$ and $\\alpha_2$ approach 0, the solution is still valid. [not sure if this is a valid argument or not]\n",
    "\n",
    "To figure out vectors that are parallel to the solution plane, we will first find a vector that is normal to the plane. \n",
    "\n",
    "$ax + by - z = -c$ is the vector equation of the plane. The vector that is normal to the plane are the coefficients of the equation, so $[a, b, -1]$ is the normal vector. \n",
    "\n",
    "We need to find two vectors $v_1$ and $v_2$ which are perpendicular to the normal vector. In other words, $[a, b, -1] \\cdot v_1 = 0$ and $[a, b, -1] \\cdot v_2 = 0$. \n",
    "\n",
    "$[a, b, -1][0, 1, b] = 0$\n",
    "\n",
    "$[a, b, -1][1, 0, a] = 0$\n",
    "\n",
    "\n",
    "Putting it all together, we get that \n",
    "\n",
    "$$ [0, 0, c] + \\alpha _1 [0, 1, b] + \\alpha _2 [1, 0, a] = [\\alpha_2, \\alpha_1, \\alpha_1 b + \\alpha_2 a + c]$$"
   ]
  },
  {
   "attachments": {},
   "cell_type": "markdown",
   "metadata": {},
   "source": [
    "## Sets of linear combinations and geometry\n",
    "Problem 3.4.6\n",
    "\n",
    "a) $\\{\\alpha [1, 3] : \\alpha \\in \\R,  0 \\leq \\alpha \\leq 1\\}$\n",
    "\n",
    "b) We can express this as a affine hull. $\\{\\alpha [2,2,2] + \\beta [2,2,0]: \\alpha \\beta \\in \\R \\alpha + \\beta = 1\\}$\n",
    "\n",
    "## Vector spaces\n",
    "Problem 3.8.7: Prove or give a counterexample: $\\{[x, y, x] : x, y, z \\in \\R, z + y + z = 1 \\}$\n",
    "\n",
    "A counter example to this is $[1, 0, 0]$. It adds up to 1. However, $2[1, 0, 0]$ is not in the vector space. \n",
    "\n",
    "Problem 3.8.8: Prove or give a counterexample: $\\{[x, y, x] : x, y, z \\in \\R, z + y + z = 0 \\}$\n",
    "\n",
    "Is a vector space. Contains zero vector $[0, 0, 0]$. Closure over addition: $a_1 + a_2 + a_3 = 0$ and $b_1 + b_2 + b_3 = 0$ so when added together they should also be 0. Closure over scalar multiplication: $\\alpha[x, y, z] = 0, \\forall \\alpha \\in \\R$\n"
   ]
  }
 ],
 "metadata": {
  "kernelspec": {
   "display_name": "Python 3",
   "language": "python",
   "name": "python3"
  },
  "language_info": {
   "codemirror_mode": {
    "name": "ipython",
    "version": 3
   },
   "file_extension": ".py",
   "mimetype": "text/x-python",
   "name": "python",
   "nbconvert_exporter": "python",
   "pygments_lexer": "ipython3",
   "version": "3.8.1 (tags/v3.8.1:1b293b6, Dec 18 2019, 22:39:24) [MSC v.1916 32 bit (Intel)]"
  },
  "orig_nbformat": 4,
  "vscode": {
   "interpreter": {
    "hash": "6fafa905ccd60f0042b301ebb0b975d5740899e0a5589424ab558a12ce0771cf"
   }
  }
 },
 "nbformat": 4,
 "nbformat_minor": 2
}
