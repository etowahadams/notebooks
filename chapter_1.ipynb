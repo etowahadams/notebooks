{
 "cells": [
  {
   "attachments": {},
   "cell_type": "markdown",
   "metadata": {},
   "source": [
    "# 1.6 Review questions\n",
    "\n",
    "- Name three fields\n",
    "\n",
    "The three fields covered in the chapter were the reals, complex numbers, and Galois Field 2.\n",
    "\n",
    "- What is the conjugate of a complex number? What does it have to do with the absolute value of a complex numbers?\n",
    "\n",
    "The conjugate of a complex number is a complex number with the same real part and an imaginary part that is the same magnitude with the opposite sign. For example, the conjugate of $1+3i$ is $1-3i$. The absolute value of a complex number $z$ can be calculated as $\\sqrt{z * \\bar{z}}$, which can be derived from the Pythagorean theorem. \n",
    "\n",
    "- How does complex number addition work?\n",
    "\n",
    "The real components and imaginary components are added separately. \n",
    "\n",
    "- How does complex-number multiplication work? \n",
    "\n",
    "The the number the complex number gets multiplied by is applied to both the imaginary and real component. \n",
    "\n",
    "- How can translation be defined in terms of complex numbers?\n",
    "\n",
    "Translation can be defined as addition and subtraction of number. It is written in the form $f(z) = z_0+z$\n",
    "\n",
    "- How can scaling be defined in terms of complex numbers?\n",
    "\n",
    "Multiplying by a positive real number scales a complex number. \n",
    "\n",
    "- How can a rotation of 180 degrees be defined in terms of complex numbers?\n",
    "\n",
    "Multiply by a negative real number\n",
    "\n",
    "- How can a rotation by 90 degrees be defined in terms of complex numbers?\n",
    "\n",
    "Multiply by $i$\n",
    "\n",
    "- How does addition of GF(2) values work? \n",
    "\n",
    "Addition of GF(2) values is equivalent to modulo 2. \n",
    "\n",
    "- How does multiplication of GF(2) values work?\n",
    "\n",
    "It is the same a normal multiplication of real numbers. "
   ]
  },
  {
   "attachments": {},
   "cell_type": "markdown",
   "metadata": {},
   "source": [
    "# 1.7 Problems"
   ]
  },
  {
   "cell_type": "code",
   "execution_count": 7,
   "metadata": {},
   "outputs": [
    {
     "data": {
      "text/plain": [
       "[1, 5, 7]"
      ]
     },
     "execution_count": 7,
     "metadata": {},
     "output_type": "execute_result"
    }
   ],
   "source": [
    "# 1.7.1\n",
    "def my_filter(L, num):\n",
    "  return [x for x in L if x % num != 0]\n",
    "\n",
    "my_filter([1, 2, 4, 5, 7], 2)"
   ]
  },
  {
   "cell_type": "code",
   "execution_count": 14,
   "metadata": {},
   "outputs": [
    {
     "data": {
      "text/plain": [
       "[[1], [1, 2], [1, 2, 3, 4], []]"
      ]
     },
     "execution_count": 14,
     "metadata": {},
     "output_type": "execute_result"
    }
   ],
   "source": [
    "# 1.7.2\n",
    "\n",
    "def my_lists(L):\n",
    "  return [[i + 1 for i in range(x)] for x in L]\n",
    "\n",
    "my_lists([1, 2, 4, 0])"
   ]
  },
  {
   "cell_type": "code",
   "execution_count": 16,
   "metadata": {},
   "outputs": [
    {
     "data": {
      "text/plain": [
       "{0: 'apple', 1: 'banana'}"
      ]
     },
     "execution_count": 16,
     "metadata": {},
     "output_type": "execute_result"
    }
   ],
   "source": [
    "# 1.7.3\n",
    "\n",
    "def my_function_composition(f,g):\n",
    "  return {k:g[f[k]] for k in f}\n",
    "\n",
    "my_function_composition({0:'a', 1:'b'}, {'a':'apple', 'b':'banana'})"
   ]
  },
  {
   "cell_type": "code",
   "execution_count": 17,
   "metadata": {},
   "outputs": [
    {
     "data": {
      "text/plain": [
       "10"
      ]
     },
     "execution_count": 17,
     "metadata": {},
     "output_type": "execute_result"
    }
   ],
   "source": [
    "# 1.7.4 \n",
    "# not allowed to use sum or min\n",
    "\n",
    "def mySum(L):\n",
    "  agg = 0\n",
    "  for i in L:\n",
    "    agg += i\n",
    "  return agg\n",
    "\n",
    "mySum([1, 2, 3, 4])"
   ]
  },
  {
   "cell_type": "code",
   "execution_count": 18,
   "metadata": {},
   "outputs": [
    {
     "data": {
      "text/plain": [
       "24"
      ]
     },
     "execution_count": 18,
     "metadata": {},
     "output_type": "execute_result"
    }
   ],
   "source": [
    "# 1.7.5\n",
    "\n",
    "def myProducts(L):\n",
    "  agg = 1\n",
    "  for i in L:\n",
    "    agg *= i\n",
    "  return agg\n",
    "myProducts([1, 2, 3, 4])"
   ]
  },
  {
   "cell_type": "code",
   "execution_count": 19,
   "metadata": {},
   "outputs": [
    {
     "data": {
      "text/plain": [
       "1"
      ]
     },
     "execution_count": 19,
     "metadata": {},
     "output_type": "execute_result"
    }
   ],
   "source": [
    "# 1.7.6\n",
    "\n",
    "def myMin(L):\n",
    "  cur = L[0]\n",
    "  for i in L:\n",
    "    if i < cur:\n",
    "      cur = i\n",
    "  return cur\n",
    "\n",
    "myMin([1, 2, 3, 4])"
   ]
  },
  {
   "cell_type": "code",
   "execution_count": 20,
   "metadata": {},
   "outputs": [
    {
     "data": {
      "text/plain": [
       "'arcsdf23d'"
      ]
     },
     "execution_count": 20,
     "metadata": {},
     "output_type": "execute_result"
    }
   ],
   "source": [
    "# 1.7.7\n",
    "def myConcat(L):\n",
    "  c = ''\n",
    "  for s in L:\n",
    "    c += s\n",
    "  return c\n",
    "myConcat([\"arc\", \"sdf\", \"23d\"])"
   ]
  },
  {
   "cell_type": "code",
   "execution_count": 24,
   "metadata": {},
   "outputs": [
    {
     "data": {
      "text/plain": [
       "{1, 2, 3, 4}"
      ]
     },
     "execution_count": 24,
     "metadata": {},
     "output_type": "execute_result"
    }
   ],
   "source": [
    "#1.7.8 \n",
    "def myUnion(L):\n",
    "  u = set()\n",
    "  for s in L:\n",
    "    u = u | s\n",
    "  return u\n",
    "myUnion([{1, 2, 3}, {2, 3, 4}])"
   ]
  },
  {
   "attachments": {},
   "cell_type": "markdown",
   "metadata": {},
   "source": [
    "1.7.10 \n",
    "1. $(3+1i)+(2+2i)=(4+3i)$\n",
    "2. $(-1+2i)+(1+1i)=(3i)$\n",
    "3. $(2+0i)+(-3+0.001i)=(-1+0.001i)$\n",
    "4. $4(0+2i)+(0.001+1i)=(0.001+9i)$\n",
    "\n",
    "\n",
    "1.7.11 \n",
    "1. $e^{1i}e^{2i}=e^{3j}$\n",
    "2. $e^{\\pi/4}e^{2\\pi/3}=e^{11\\pi/12i}$\n",
    "3. $e^{-\\pi/4}e^{2\\pi/3}=e^{5\\pi/12i}$\n",
    "\n",
    "1.7.12\n",
    "\n",
    "a) $b=2+2i$, $a=2i$\n",
    "\n",
    "1.7.13\n",
    "1. 1 + 1 + 1 + 0 = 1\n",
    "2. 1* 1+0 * 1+0 * 0+1 * 1 = 1+0+0+1=0\n",
    "3. (1+1+1) * (1+1+1+1) = 1 * 0 = 0 "
   ]
  }
 ],
 "metadata": {
  "kernelspec": {
   "display_name": "Python 3",
   "language": "python",
   "name": "python3"
  },
  "language_info": {
   "codemirror_mode": {
    "name": "ipython",
    "version": 3
   },
   "file_extension": ".py",
   "mimetype": "text/x-python",
   "name": "python",
   "nbconvert_exporter": "python",
   "pygments_lexer": "ipython3",
   "version": "3.8.1"
  },
  "orig_nbformat": 4,
  "vscode": {
   "interpreter": {
    "hash": "6fafa905ccd60f0042b301ebb0b975d5740899e0a5589424ab558a12ce0771cf"
   }
  }
 },
 "nbformat": 4,
 "nbformat_minor": 2
}
